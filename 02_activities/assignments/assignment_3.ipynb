{
 "cells": [
  {
   "cell_type": "markdown",
   "id": "7b0bcac6-5086-4f4e-928a-570a9ff7ae58",
   "metadata": {},
   "source": [
    "# Assignment 3"
   ]
  },
  {
   "cell_type": "markdown",
   "id": "5fce0350-2a17-4e93-8d4c-0b8748fdfc32",
   "metadata": {},
   "source": [
    "You only need to write one line of code for each question. When answering questions that ask you to identify or interpret something, the length of your response doesn’t matter. For example, if the answer is just ‘yes,’ ‘no,’ or a number, you can just give that answer without adding anything else.\n",
    "\n",
    "We will go through comparable code and concepts in the live learning session. If you run into trouble, start by using the help `help()` function in Python, to get information about the datasets and function in question. The internet is also a great resource when coding (though note that **no outside searches are required by the assignment!**). If you do incorporate code from the internet, please cite the source within your code (providing a URL is sufficient).\n",
    "\n",
    "Please bring questions that you cannot work out on your own to office hours, work periods or share with your peers on Slack. We will work with you through the issue."
   ]
  },
  {
   "cell_type": "markdown",
   "id": "5fc5001c-7715-4ebe-b0f7-e4bd04349629",
   "metadata": {},
   "source": [
    "### Clustering and Resampling\n",
    "\n",
    "Let's set up our workspace and use the **Iris dataset** from `scikit-learn`. This dataset is a classic dataset in machine learning and statistics, widely used for clustering tasks. It consists of 150 samples of iris flowers, each belonging to one of three species: Iris setosa, Iris versicolor, and Iris virginica. Here are the key features and characteristics of the dataset:\n",
    "\n",
    "##### Features:\n",
    "1. **Sepal Length**: The length of the sepal in centimeters.\n",
    "2. **Sepal Width**: The width of the sepal in centimeters.\n",
    "3. **Petal Length**: The length of the petal in centimeters.\n",
    "4. **Petal Width**: The width of the petal in centimeters.\n",
    "\n",
    "##### Target Variable:\n",
    "- **Species**: The species of the iris flower, which can take one of the following values:\n",
    "  - 0: Iris setosa\n",
    "  - 1: Iris versicolor\n",
    "  - 2: Iris virginica"
   ]
  },
  {
   "cell_type": "code",
   "execution_count": null,
   "id": "4a3485d6-ba58-4660-a983-5680821c5719",
   "metadata": {},
   "outputs": [],
   "source": [
    "# Import standard libraries\n",
    "import numpy as np\n",
    "import pandas as pd\n",
    "import matplotlib.pyplot as plt\n",
    "from sklearn.preprocessing import StandardScaler\n",
    "from sklearn.cluster import KMeans"
   ]
  },
  {
   "cell_type": "markdown",
   "id": "3491d919",
   "metadata": {},
   "source": [
    "#### **Question 1:** \n",
    "#### Data inspection\n",
    "\n",
    "#### Load the Iris dataset:\n",
    "\n",
    "Use scikit-learn to load the Iris dataset and convert it into a Pandas DataFrame.\n",
    "Display the first few rows of the dataset. How many observations (rows) and features (columns) does the dataset contain?"
   ]
  },
  {
   "cell_type": "code",
   "execution_count": 14,
   "id": "a431d282-f9ca-4d5d-8912-71ffc9d8ea19",
   "metadata": {},
   "outputs": [
    {
     "data": {
      "text/html": [
       "<div>\n",
       "<style scoped>\n",
       "    .dataframe tbody tr th:only-of-type {\n",
       "        vertical-align: middle;\n",
       "    }\n",
       "\n",
       "    .dataframe tbody tr th {\n",
       "        vertical-align: top;\n",
       "    }\n",
       "\n",
       "    .dataframe thead th {\n",
       "        text-align: right;\n",
       "    }\n",
       "</style>\n",
       "<table border=\"1\" class=\"dataframe\">\n",
       "  <thead>\n",
       "    <tr style=\"text-align: right;\">\n",
       "      <th></th>\n",
       "      <th>sepal length (cm)</th>\n",
       "      <th>sepal width (cm)</th>\n",
       "      <th>petal length (cm)</th>\n",
       "      <th>petal width (cm)</th>\n",
       "      <th>species</th>\n",
       "    </tr>\n",
       "  </thead>\n",
       "  <tbody>\n",
       "    <tr>\n",
       "      <th>0</th>\n",
       "      <td>5.1</td>\n",
       "      <td>3.5</td>\n",
       "      <td>1.4</td>\n",
       "      <td>0.2</td>\n",
       "      <td>0</td>\n",
       "    </tr>\n",
       "    <tr>\n",
       "      <th>1</th>\n",
       "      <td>4.9</td>\n",
       "      <td>3.0</td>\n",
       "      <td>1.4</td>\n",
       "      <td>0.2</td>\n",
       "      <td>0</td>\n",
       "    </tr>\n",
       "    <tr>\n",
       "      <th>2</th>\n",
       "      <td>4.7</td>\n",
       "      <td>3.2</td>\n",
       "      <td>1.3</td>\n",
       "      <td>0.2</td>\n",
       "      <td>0</td>\n",
       "    </tr>\n",
       "    <tr>\n",
       "      <th>3</th>\n",
       "      <td>4.6</td>\n",
       "      <td>3.1</td>\n",
       "      <td>1.5</td>\n",
       "      <td>0.2</td>\n",
       "      <td>0</td>\n",
       "    </tr>\n",
       "    <tr>\n",
       "      <th>4</th>\n",
       "      <td>5.0</td>\n",
       "      <td>3.6</td>\n",
       "      <td>1.4</td>\n",
       "      <td>0.2</td>\n",
       "      <td>0</td>\n",
       "    </tr>\n",
       "    <tr>\n",
       "      <th>...</th>\n",
       "      <td>...</td>\n",
       "      <td>...</td>\n",
       "      <td>...</td>\n",
       "      <td>...</td>\n",
       "      <td>...</td>\n",
       "    </tr>\n",
       "    <tr>\n",
       "      <th>145</th>\n",
       "      <td>6.7</td>\n",
       "      <td>3.0</td>\n",
       "      <td>5.2</td>\n",
       "      <td>2.3</td>\n",
       "      <td>2</td>\n",
       "    </tr>\n",
       "    <tr>\n",
       "      <th>146</th>\n",
       "      <td>6.3</td>\n",
       "      <td>2.5</td>\n",
       "      <td>5.0</td>\n",
       "      <td>1.9</td>\n",
       "      <td>2</td>\n",
       "    </tr>\n",
       "    <tr>\n",
       "      <th>147</th>\n",
       "      <td>6.5</td>\n",
       "      <td>3.0</td>\n",
       "      <td>5.2</td>\n",
       "      <td>2.0</td>\n",
       "      <td>2</td>\n",
       "    </tr>\n",
       "    <tr>\n",
       "      <th>148</th>\n",
       "      <td>6.2</td>\n",
       "      <td>3.4</td>\n",
       "      <td>5.4</td>\n",
       "      <td>2.3</td>\n",
       "      <td>2</td>\n",
       "    </tr>\n",
       "    <tr>\n",
       "      <th>149</th>\n",
       "      <td>5.9</td>\n",
       "      <td>3.0</td>\n",
       "      <td>5.1</td>\n",
       "      <td>1.8</td>\n",
       "      <td>2</td>\n",
       "    </tr>\n",
       "  </tbody>\n",
       "</table>\n",
       "<p>150 rows × 5 columns</p>\n",
       "</div>"
      ],
      "text/plain": [
       "     sepal length (cm)  sepal width (cm)  petal length (cm)  petal width (cm)  \\\n",
       "0                  5.1               3.5                1.4               0.2   \n",
       "1                  4.9               3.0                1.4               0.2   \n",
       "2                  4.7               3.2                1.3               0.2   \n",
       "3                  4.6               3.1                1.5               0.2   \n",
       "4                  5.0               3.6                1.4               0.2   \n",
       "..                 ...               ...                ...               ...   \n",
       "145                6.7               3.0                5.2               2.3   \n",
       "146                6.3               2.5                5.0               1.9   \n",
       "147                6.5               3.0                5.2               2.0   \n",
       "148                6.2               3.4                5.4               2.3   \n",
       "149                5.9               3.0                5.1               1.8   \n",
       "\n",
       "     species  \n",
       "0          0  \n",
       "1          0  \n",
       "2          0  \n",
       "3          0  \n",
       "4          0  \n",
       "..       ...  \n",
       "145        2  \n",
       "146        2  \n",
       "147        2  \n",
       "148        2  \n",
       "149        2  \n",
       "\n",
       "[150 rows x 5 columns]"
      ]
     },
     "execution_count": 14,
     "metadata": {},
     "output_type": "execute_result"
    }
   ],
   "source": [
    "from sklearn.datasets import load_iris\n",
    "# Load the Iris dataset\n",
    "iris_data = load_iris()\n",
    "\n",
    "# Convert to DataFrame\n",
    "iris_df = pd.DataFrame(iris_data.data, columns=iris_data.feature_names)\n",
    "\n",
    "# Bind the disease progression (diabetes target) to the DataFrame\n",
    "iris_df['species'] = iris_data.target\n",
    "\n",
    "\n",
    "# Display the DataFrame\n",
    "print(iris_df.head())\n",
    "\n",
    "#Your code here ... \n",
    "iris_df = pd.DataFrame(iris_data.data, columns=iris_data.feature_names)\n",
    "print(iris_df.head())\n",
    "print(f\"Number of observations: {iris_df.shape[0]}, Number of features: {iris_df.shape[1]}\")"
   ]
  },
  {
   "cell_type": "markdown",
   "id": "99b725c5",
   "metadata": {},
   "source": [
    "> 150 observations (rows) and 5 features (columns)"
   ]
  },
  {
   "cell_type": "markdown",
   "id": "fa3832d7",
   "metadata": {},
   "source": [
    "#### **Question 2:** \n",
    "#### Data-visualization\n",
    "\n",
    "Create plots to visualize the relationships between the features (sepal length, sepal width, petal length, petal width).\n"
   ]
  },
  {
   "cell_type": "code",
   "execution_count": null,
   "id": "efd6dc0c",
   "metadata": {},
   "outputs": [],
   "source": [
    "# def plot_feature_pairs(data, feature_names, color_labels=None, title_prefix=''):\n",
    "    \"\"\"\n",
    "    Helper function to create scatter plots for all possible pairs of features.\n",
    "    \n",
    "    Parameters:\n",
    "    - data: DataFrame containing the features to be plotted.\n",
    "    - feature_names: List of feature names to be used in plotting.\n",
    "    - color_labels: Optional. Cluster or class labels to color the scatter plots.\n",
    "    - title_prefix: Optional. Prefix for plot titles to distinguish between different sets of plots.\n",
    "    \"\"\"\n",
    "    # Create a figure for the scatter plots\n",
    "    plt.figure(figsize=(12, 10))\n",
    "    \n",
    "    # Counter for subplot index\n",
    "    plot_number = 1\n",
    "    \n",
    "    # Loop through each pair of features\n",
    "    for i in range(len(feature_names)):\n",
    "        for j in range(i + 1, len(feature_names)):\n",
    "            plt.subplot(len(feature_names)-1, len(feature_names)-1, plot_number)\n",
    "            \n",
    "            # Scatter plot colored by labels if provided\n",
    "            if color_labels is not None:\n",
    "                plt.scatter(data[feature_names[i]], data[feature_names[j]], \n",
    "                            c=color_labels, cmap='viridis', alpha=0.7)\n",
    "            else:\n",
    "                plt.scatter(data[feature_names[i]], data[feature_names[j]], alpha=0.7)\n",
    "            \n",
    "            plt.xlabel(feature_names[i])\n",
    "            plt.ylabel(feature_names[j])\n",
    "            plt.title(f'{title_prefix}{feature_names[i]} vs {feature_names[j]}')\n",
    "            \n",
    "            # Increment the plot number\n",
    "            plot_number += 1\n",
    "\n",
    "    # Adjust layout to prevent overlap\n",
    "    plt.tight_layout()\n",
    "\n",
    "    # Show the plot\n",
    "    plt.show()\n",
    "\n",
    "# Get feature names\n",
    "feature_names = iris_df.columns\n",
    "\n",
    "# Use the helper function to plot scatter plots without coloring by cluster labels\n",
    "plot_feature_pairs(iris_df, feature_names, title_prefix='Original Data: ')"
   ]
  },
  {
   "cell_type": "markdown",
   "id": "e52e0a06",
   "metadata": {},
   "source": [
    "Do you notice any patterns or relationships between the different features? How might these patterns help in distinguishing between different species?"
   ]
  },
  {
   "cell_type": "markdown",
   "id": "3807c3ca",
   "metadata": {},
   "source": [
    "> There are clusters visible in the scatter plots, particularly between petal length and petal width, suggesting that these features could be useful in distinguishing between different species of iris flowers."
   ]
  },
  {
   "cell_type": "markdown",
   "id": "d596b3af",
   "metadata": {},
   "source": [
    "#### **Question 3:** \n",
    "#### Data cleaning"
   ]
  },
  {
   "cell_type": "code",
   "execution_count": null,
   "id": "b8971d89",
   "metadata": {},
   "outputs": [],
   "source": [
    "# Initialize the StandardScaler\n",
    "scaler = StandardScaler()\n",
    "\n",
    "# Scale the features (excluding the species column)\n",
    "scaled_features = scaler.fit_transform(iris_df.iloc[:, :-1])\n",
    "\n",
    "# Create a new DataFrame with scaled features\n",
    "scaled_iris_df = pd.DataFrame(scaled_features, columns=iris_data.feature_names)\n",
    "\n",
    "# Add the species column back to the scaled DataFrame\n",
    "scaled_iris_df['species'] = iris_df['species'].values\n",
    "\n",
    "# Display the first few rows of the scaled DataFrame\n",
    "print(scaled_iris_df.head())"
   ]
  },
  {
   "cell_type": "markdown",
   "id": "b326e039",
   "metadata": {},
   "source": [
    "Why is it important to standardize the features of a dataset before applying clustering algorithms like K-Means? Discuss the implications of using unstandardized data in your analysis."
   ]
  },
  {
   "cell_type": "markdown",
   "id": "fc34b4b7",
   "metadata": {},
   "source": [
    "> Standardizing features ensures that each feature contributes equally to the distance calculations in clustering algorithms like K-Means. Unstandardized data can lead to biased results because features on larger scales may dominate the clustering process, making it difficult to accurately identify clusters."
   ]
  },
  {
   "cell_type": "markdown",
   "id": "4604ee03",
   "metadata": {},
   "source": [
    "#### **Question 4:** \n",
    "#### K-means clustering \n",
    "Apply the K-Means clustering algorithm to the Iris dataset.\n",
    "Choose the number of clusters (K=3, since there are three species) and fit the model.\n",
    "Assign cluster labels to the original data and add them as a new column in the DataFrame."
   ]
  },
  {
   "cell_type": "code",
   "execution_count": null,
   "id": "909df219",
   "metadata": {},
   "outputs": [],
   "source": [
    "# Your code here ...\n",
    "kmeans = KMeans(n_clusters=3, random_state=0)\n",
    "iris_df['Cluster'] = kmeans.fit_predict(scaled_iris_df)\n",
    "clustered_iris_data = iris_df"
   ]
  },
  {
   "cell_type": "markdown",
   "id": "0aefdee5",
   "metadata": {},
   "source": [
    "Discuss the results of the K-Means clustering. How well did the clusters match the true species?"
   ]
  },
  {
   "cell_type": "markdown",
   "id": "7bcebc16",
   "metadata": {},
   "source": [
    "> The K-Means clustering results on the Iris dataset showed a good match with the true species. The algorithm effectively separated Setosa into its own distinct cluster due to its smaller measurements, while Versicolor and Virginica were somewhat overlapping but generally clustered together. Overall, the clusters aligned well with the species, demonstrating the effectiveness of K-Means in distinguishing between the iris types, particularly with clear separation for Setosa."
   ]
  },
  {
   "cell_type": "markdown",
   "id": "3f76bf62",
   "metadata": {},
   "source": [
    "#### **Question 5:** \n",
    "#### Bootstrapping \n",
    "\n",
    " Implement bootstrapping on the mean of one of the sepal or petal measurement variables (e.g., Sepal Length, Petal Width) to assess the stability of the mean estimate. Generate 1000 bootstrap samples, calculate the mean for each sample, and compute a 95% confidence interval to evaluate the variability in the estimate."
   ]
  },
  {
   "cell_type": "code",
   "execution_count": null,
   "id": "ffefa9f2",
   "metadata": {},
   "outputs": [],
   "source": [
    "# Your code here ...\n",
    "import numpy as np\n",
    "\n",
    "mean_petal_width = np.mean(iris_df['petal width (cm)'])\n",
    "\n",
    "np.random.seed(123)\n",
    "\n",
    "n_bootstrap_samples = 10000\n",
    "bootstrap_means = np.random.choice(iris_df['petal width (cm)'], (n_bootstrap_samples, len(iris_df)), replace=True).mean(axis=1)\n",
    "\n",
    "lower_bound = np.percentile(bootstrap_means, 5)\n",
    "upper_bound = np.percentile(bootstrap_means, 95)\n",
    "\n",
    "# Display the result\n",
    "print(f\"Mean of Petal Width: {mean_petal_width}\")\n",
    "print(f\"90% Confidence Interval of Mean Petal Width: ({lower_bound}, {upper_bound})\")"
   ]
  },
  {
   "cell_type": "markdown",
   "id": "245845b2",
   "metadata": {},
   "source": [
    "Why do we use bootstrapping in this context? What does it help us understand about the mean?"
   ]
  },
  {
   "cell_type": "markdown",
   "id": "54920995",
   "metadata": {},
   "source": [
    "> Bootstrapping is used in this context to estimate the variability of the mean of Petal Width and to construct confidence intervals without relying on strict distributional assumptions. It generates multiple samples from the original dataset through resampling, allowing us to assess how the sample mean might vary. This method provides a robust estimate of uncertainty, making it especially useful when the sample size is small or the data distribution is unknown. "
   ]
  },
  {
   "cell_type": "markdown",
   "id": "14ba86d7",
   "metadata": {},
   "source": [
    "What is the purpose of calculating the confidence interval from the bootstrap samples? How does it help us interpret the variability of the estimate?"
   ]
  },
  {
   "cell_type": "markdown",
   "id": "ea17825a",
   "metadata": {},
   "source": [
    "> Calculating the confidence interval from bootstrap samples helps quantify uncertainty and interpret the variability of the mean estimate, enabling better decision-making based on the data's reliability."
   ]
  },
  {
   "cell_type": "markdown",
   "id": "29096311",
   "metadata": {},
   "source": [
    "Reflect on the variability observed in the bootstrapped means and discuss whether the mean of the selected variable appears to be a stable and reliable estimate based on the confidence interval and the spread of the bootstrapped means."
   ]
  },
  {
   "cell_type": "markdown",
   "id": "0a7e6778",
   "metadata": {},
   "source": [
    "> The variability in the bootstrapped mean reveals whether the mean of Petal Width is stable and reliable. A narrow confidence interval indicates stability and suggests that the mean is a trustworthy estimate, while a wide interval signifies significant variability and reduced reliability. Overall, a tight spread in the bootstrapped means supports confidence in the mean estimate."
   ]
  },
  {
   "cell_type": "markdown",
   "id": "6f8a69db",
   "metadata": {},
   "source": [
    "# Criteria\n",
    "\n",
    "\n",
    "| **Criteria**                                           | **Complete**                                      | **Incomplete**                                    |\n",
    "|--------------------------------------------------------|---------------------------------------------------|--------------------------------------------------|\n",
    "| **Data Inspection**                                    | Data is thoroughly inspected for the number of variables, observations, and data types, and relevant insights are noted. | Data inspection is missing or lacks detail.         |\n",
    "| **Data Visualization**                                 | Visualizations (e.g., scatter plots) are well-constructed and correctly interpreted to explore relationships between features and species. | Visualizations are poorly constructed or not correctly interpreted. |\n",
    "| **Clustering Implementation**                           | K-Means clustering is correctly implemented, and cluster labels are appropriately assigned to the dataset.            | K-Means clustering is missing or incorrectly implemented. |\n",
    "| **Bootstrapping Process**                              | Bootstrapping is correctly performed, and results are used to assess variable mean stability. | Bootstrapping is missing or incorrectly performed. |"
   ]
  },
  {
   "cell_type": "markdown",
   "id": "0b4390cc",
   "metadata": {},
   "source": [
    "## Submission Information\n",
    "\n",
    "🚨 **Please review our [Assignment Submission Guide](https://github.com/UofT-DSI/onboarding/blob/main/onboarding_documents/submissions.md)** 🚨 for detailed instructions on how to format, branch, and submit your work. Following these guidelines is crucial for your submissions to be evaluated correctly.\n",
    "\n",
    "### Note:\n",
    "\n",
    "If you like, you may collaborate with others in the cohort. If you choose to do so, please indicate with whom you have worked with in your pull request by tagging their GitHub username. Separate submissions are required.\n",
    "\n",
    "### Submission Parameters:\n",
    "* Submission Due Date: `HH:MM AM/PM - DD/MM/YYYY`\n",
    "* The branch name for your repo should be: `assignment-1`\n",
    "* What to submit for this assignment:\n",
    "    * This Jupyter Notebook (assignment_1.ipynb) should be populated and should be the only change in your pull request.\n",
    "* What the pull request link should look like for this assignment: `https://github.com/<your_github_username>/applying_statistical_concepts/pull/<pr_id>`\n",
    "    * Open a private window in your browser. Copy and paste the link to your pull request into the address bar. Make sure you can see your pull request properly. This helps the technical facilitator and learning support staff review your submission easily.\n",
    "\n",
    "Checklist:\n",
    "- [ ] Created a branch with the correct naming convention.\n",
    "- [ ] Ensured that the repository is public.\n",
    "- [ ] Reviewed the PR description guidelines and adhered to them.\n",
    "- [ ] Verify that the link is accessible in a private browser window.\n",
    "\n",
    "If you encounter any difficulties or have questions, please don't hesitate to reach out to our team via our Slack at `#cohort-4-help`. Our Technical Facilitators and Learning Support staff are here to help you navigate any challenges.\n"
   ]
  }
 ],
 "metadata": {
  "kernelspec": {
   "display_name": "Python 3",
   "language": "python",
   "name": "python3"
  },
  "language_info": {
   "codemirror_mode": {
    "name": "ipython",
    "version": 3
   },
   "file_extension": ".py",
   "mimetype": "text/x-python",
   "name": "python",
   "nbconvert_exporter": "python",
   "pygments_lexer": "ipython3",
   "version": "3.12.5"
  }
 },
 "nbformat": 4,
 "nbformat_minor": 5
}
